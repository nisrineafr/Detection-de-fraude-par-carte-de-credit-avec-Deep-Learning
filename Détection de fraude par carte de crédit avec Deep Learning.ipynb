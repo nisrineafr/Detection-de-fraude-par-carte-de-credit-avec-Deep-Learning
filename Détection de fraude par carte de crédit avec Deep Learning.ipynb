{
 "cells": [
  {
   "cell_type": "markdown",
   "id": "03edc9c5-6f33-4f64-a76e-1e933098687a",
   "metadata": {},
   "source": [
    "# Détection de fraude par carte de crédit avec Deep Learning"
   ]
  },
  {
   "cell_type": "markdown",
   "id": "18311828-02f6-4f13-bebe-265fe855c2f3",
   "metadata": {},
   "source": [
    "## Introduction et objectifs"
   ]
  },
  {
   "cell_type": "markdown",
   "id": "bc9b7204-06db-40c4-b4ff-10a7e02060e2",
   "metadata": {},
   "source": [
    "Ce projet vise à utiliser des techniques de Deep Learning pour prédire les transactions frauduleuses dans un dataset de cartes de crédit. Le défi principal ici est l’imprévisibilité et le déséquilibre des classes, qui sont abordés à travers des métriques comme la précision, rappel et F1-score. frauduleuses vs non frauduleuses).\n"
   ]
  },
  {
   "cell_type": "code",
   "execution_count": 169,
   "id": "99756358-5e44-477c-9e72-a17c5f57bc26",
   "metadata": {},
   "outputs": [],
   "source": [
    "import pandas as pd\n",
    "import seaborn as sns\n",
    "import matplotlib.pyplot as plt\n",
    "from imblearn.over_sampling import SMOTE\n",
    "from sklearn.preprocessing import StandardScaler\n",
    "from sklearn.model_selection import train_test_split\n",
    "from keras.models import Sequential\n",
    "from keras.layers import Dense, Input \n",
    "from keras.metrics import Recall, AUC  \n",
    "from sklearn.metrics import roc_curve, auc\n",
    "from sklearn.metrics import confusion_matrix\n",
    "import seaborn as sns\n"
   ]
  },
  {
   "cell_type": "markdown",
   "id": "0ee0e0d1-0024-49ce-b338-daf8478a0e14",
   "metadata": {},
   "source": [
    "## Chargement des données et exploration\r\n",
    "\n"
   ]
  },
  {
   "cell_type": "markdown",
   "id": "717e3728-0c39-48c3-9978-f8e9acb3c600",
   "metadata": {},
   "source": [
    "\n",
    "Dans cette section, le but est de charger les données et de comprendre les caractéristiques du dataset. Nous avons effectué des étapes telles que la vérification des valeurs manquantes, l'examen des statistiques descriptives et l'analyse de la distribution des classes (frauduleuses vs non frauduleuses)."
   ]
  },
  {
   "cell_type": "code",
   "execution_count": 173,
   "id": "c988a4ee-c46e-458a-9a7c-556ebf22fa06",
   "metadata": {},
   "outputs": [],
   "source": [
    "df = pd.read_csv('creditcard.csv')"
   ]
  },
  {
   "cell_type": "code",
   "execution_count": 174,
   "id": "e6630405-667c-4bff-b872-72a74aa4e22f",
   "metadata": {},
   "outputs": [
    {
     "data": {
      "text/html": [
       "<div>\n",
       "<style scoped>\n",
       "    .dataframe tbody tr th:only-of-type {\n",
       "        vertical-align: middle;\n",
       "    }\n",
       "\n",
       "    .dataframe tbody tr th {\n",
       "        vertical-align: top;\n",
       "    }\n",
       "\n",
       "    .dataframe thead th {\n",
       "        text-align: right;\n",
       "    }\n",
       "</style>\n",
       "<table border=\"1\" class=\"dataframe\">\n",
       "  <thead>\n",
       "    <tr style=\"text-align: right;\">\n",
       "      <th></th>\n",
       "      <th>Time</th>\n",
       "      <th>V1</th>\n",
       "      <th>V2</th>\n",
       "      <th>V3</th>\n",
       "      <th>V4</th>\n",
       "      <th>V5</th>\n",
       "      <th>V6</th>\n",
       "      <th>V7</th>\n",
       "      <th>V8</th>\n",
       "      <th>V9</th>\n",
       "      <th>...</th>\n",
       "      <th>V21</th>\n",
       "      <th>V22</th>\n",
       "      <th>V23</th>\n",
       "      <th>V24</th>\n",
       "      <th>V25</th>\n",
       "      <th>V26</th>\n",
       "      <th>V27</th>\n",
       "      <th>V28</th>\n",
       "      <th>Amount</th>\n",
       "      <th>Class</th>\n",
       "    </tr>\n",
       "  </thead>\n",
       "  <tbody>\n",
       "    <tr>\n",
       "      <th>0</th>\n",
       "      <td>0.0</td>\n",
       "      <td>-1.359807</td>\n",
       "      <td>-0.072781</td>\n",
       "      <td>2.536347</td>\n",
       "      <td>1.378155</td>\n",
       "      <td>-0.338321</td>\n",
       "      <td>0.462388</td>\n",
       "      <td>0.239599</td>\n",
       "      <td>0.098698</td>\n",
       "      <td>0.363787</td>\n",
       "      <td>...</td>\n",
       "      <td>-0.018307</td>\n",
       "      <td>0.277838</td>\n",
       "      <td>-0.110474</td>\n",
       "      <td>0.066928</td>\n",
       "      <td>0.128539</td>\n",
       "      <td>-0.189115</td>\n",
       "      <td>0.133558</td>\n",
       "      <td>-0.021053</td>\n",
       "      <td>149.62</td>\n",
       "      <td>0</td>\n",
       "    </tr>\n",
       "    <tr>\n",
       "      <th>1</th>\n",
       "      <td>0.0</td>\n",
       "      <td>1.191857</td>\n",
       "      <td>0.266151</td>\n",
       "      <td>0.166480</td>\n",
       "      <td>0.448154</td>\n",
       "      <td>0.060018</td>\n",
       "      <td>-0.082361</td>\n",
       "      <td>-0.078803</td>\n",
       "      <td>0.085102</td>\n",
       "      <td>-0.255425</td>\n",
       "      <td>...</td>\n",
       "      <td>-0.225775</td>\n",
       "      <td>-0.638672</td>\n",
       "      <td>0.101288</td>\n",
       "      <td>-0.339846</td>\n",
       "      <td>0.167170</td>\n",
       "      <td>0.125895</td>\n",
       "      <td>-0.008983</td>\n",
       "      <td>0.014724</td>\n",
       "      <td>2.69</td>\n",
       "      <td>0</td>\n",
       "    </tr>\n",
       "    <tr>\n",
       "      <th>2</th>\n",
       "      <td>1.0</td>\n",
       "      <td>-1.358354</td>\n",
       "      <td>-1.340163</td>\n",
       "      <td>1.773209</td>\n",
       "      <td>0.379780</td>\n",
       "      <td>-0.503198</td>\n",
       "      <td>1.800499</td>\n",
       "      <td>0.791461</td>\n",
       "      <td>0.247676</td>\n",
       "      <td>-1.514654</td>\n",
       "      <td>...</td>\n",
       "      <td>0.247998</td>\n",
       "      <td>0.771679</td>\n",
       "      <td>0.909412</td>\n",
       "      <td>-0.689281</td>\n",
       "      <td>-0.327642</td>\n",
       "      <td>-0.139097</td>\n",
       "      <td>-0.055353</td>\n",
       "      <td>-0.059752</td>\n",
       "      <td>378.66</td>\n",
       "      <td>0</td>\n",
       "    </tr>\n",
       "    <tr>\n",
       "      <th>3</th>\n",
       "      <td>1.0</td>\n",
       "      <td>-0.966272</td>\n",
       "      <td>-0.185226</td>\n",
       "      <td>1.792993</td>\n",
       "      <td>-0.863291</td>\n",
       "      <td>-0.010309</td>\n",
       "      <td>1.247203</td>\n",
       "      <td>0.237609</td>\n",
       "      <td>0.377436</td>\n",
       "      <td>-1.387024</td>\n",
       "      <td>...</td>\n",
       "      <td>-0.108300</td>\n",
       "      <td>0.005274</td>\n",
       "      <td>-0.190321</td>\n",
       "      <td>-1.175575</td>\n",
       "      <td>0.647376</td>\n",
       "      <td>-0.221929</td>\n",
       "      <td>0.062723</td>\n",
       "      <td>0.061458</td>\n",
       "      <td>123.50</td>\n",
       "      <td>0</td>\n",
       "    </tr>\n",
       "    <tr>\n",
       "      <th>4</th>\n",
       "      <td>2.0</td>\n",
       "      <td>-1.158233</td>\n",
       "      <td>0.877737</td>\n",
       "      <td>1.548718</td>\n",
       "      <td>0.403034</td>\n",
       "      <td>-0.407193</td>\n",
       "      <td>0.095921</td>\n",
       "      <td>0.592941</td>\n",
       "      <td>-0.270533</td>\n",
       "      <td>0.817739</td>\n",
       "      <td>...</td>\n",
       "      <td>-0.009431</td>\n",
       "      <td>0.798278</td>\n",
       "      <td>-0.137458</td>\n",
       "      <td>0.141267</td>\n",
       "      <td>-0.206010</td>\n",
       "      <td>0.502292</td>\n",
       "      <td>0.219422</td>\n",
       "      <td>0.215153</td>\n",
       "      <td>69.99</td>\n",
       "      <td>0</td>\n",
       "    </tr>\n",
       "  </tbody>\n",
       "</table>\n",
       "<p>5 rows × 31 columns</p>\n",
       "</div>"
      ],
      "text/plain": [
       "   Time        V1        V2        V3        V4        V5        V6        V7  \\\n",
       "0   0.0 -1.359807 -0.072781  2.536347  1.378155 -0.338321  0.462388  0.239599   \n",
       "1   0.0  1.191857  0.266151  0.166480  0.448154  0.060018 -0.082361 -0.078803   \n",
       "2   1.0 -1.358354 -1.340163  1.773209  0.379780 -0.503198  1.800499  0.791461   \n",
       "3   1.0 -0.966272 -0.185226  1.792993 -0.863291 -0.010309  1.247203  0.237609   \n",
       "4   2.0 -1.158233  0.877737  1.548718  0.403034 -0.407193  0.095921  0.592941   \n",
       "\n",
       "         V8        V9  ...       V21       V22       V23       V24       V25  \\\n",
       "0  0.098698  0.363787  ... -0.018307  0.277838 -0.110474  0.066928  0.128539   \n",
       "1  0.085102 -0.255425  ... -0.225775 -0.638672  0.101288 -0.339846  0.167170   \n",
       "2  0.247676 -1.514654  ...  0.247998  0.771679  0.909412 -0.689281 -0.327642   \n",
       "3  0.377436 -1.387024  ... -0.108300  0.005274 -0.190321 -1.175575  0.647376   \n",
       "4 -0.270533  0.817739  ... -0.009431  0.798278 -0.137458  0.141267 -0.206010   \n",
       "\n",
       "        V26       V27       V28  Amount  Class  \n",
       "0 -0.189115  0.133558 -0.021053  149.62      0  \n",
       "1  0.125895 -0.008983  0.014724    2.69      0  \n",
       "2 -0.139097 -0.055353 -0.059752  378.66      0  \n",
       "3 -0.221929  0.062723  0.061458  123.50      0  \n",
       "4  0.502292  0.219422  0.215153   69.99      0  \n",
       "\n",
       "[5 rows x 31 columns]"
      ]
     },
     "execution_count": 174,
     "metadata": {},
     "output_type": "execute_result"
    }
   ],
   "source": [
    "df.head()"
   ]
  },
  {
   "cell_type": "markdown",
   "id": "49a8a327-cb3d-44ca-87ff-853e2caf1b42",
   "metadata": {},
   "source": [
    "31 colonnes, dont 2 qui sont Time et Amount. Le reste provient de la transformation PCA. "
   ]
  },
  {
   "cell_type": "code",
   "execution_count": 176,
   "id": "f25bc94f-cb0d-48e5-abfd-cb5763cbfe17",
   "metadata": {},
   "outputs": [
    {
     "name": "stdout",
     "output_type": "stream",
     "text": [
      "<class 'pandas.core.frame.DataFrame'>\n",
      "RangeIndex: 284807 entries, 0 to 284806\n",
      "Data columns (total 31 columns):\n",
      " #   Column  Non-Null Count   Dtype  \n",
      "---  ------  --------------   -----  \n",
      " 0   Time    284807 non-null  float64\n",
      " 1   V1      284807 non-null  float64\n",
      " 2   V2      284807 non-null  float64\n",
      " 3   V3      284807 non-null  float64\n",
      " 4   V4      284807 non-null  float64\n",
      " 5   V5      284807 non-null  float64\n",
      " 6   V6      284807 non-null  float64\n",
      " 7   V7      284807 non-null  float64\n",
      " 8   V8      284807 non-null  float64\n",
      " 9   V9      284807 non-null  float64\n",
      " 10  V10     284807 non-null  float64\n",
      " 11  V11     284807 non-null  float64\n",
      " 12  V12     284807 non-null  float64\n",
      " 13  V13     284807 non-null  float64\n",
      " 14  V14     284807 non-null  float64\n",
      " 15  V15     284807 non-null  float64\n",
      " 16  V16     284807 non-null  float64\n",
      " 17  V17     284807 non-null  float64\n",
      " 18  V18     284807 non-null  float64\n",
      " 19  V19     284807 non-null  float64\n",
      " 20  V20     284807 non-null  float64\n",
      " 21  V21     284807 non-null  float64\n",
      " 22  V22     284807 non-null  float64\n",
      " 23  V23     284807 non-null  float64\n",
      " 24  V24     284807 non-null  float64\n",
      " 25  V25     284807 non-null  float64\n",
      " 26  V26     284807 non-null  float64\n",
      " 27  V27     284807 non-null  float64\n",
      " 28  V28     284807 non-null  float64\n",
      " 29  Amount  284807 non-null  float64\n",
      " 30  Class   284807 non-null  int64  \n",
      "dtypes: float64(30), int64(1)\n",
      "memory usage: 67.4 MB\n"
     ]
    }
   ],
   "source": [
    "df.info()"
   ]
  },
  {
   "cell_type": "markdown",
   "id": "f44df03a-16c3-42cc-a3a6-b11cad2ad16c",
   "metadata": {},
   "source": [
    "Le DataFrame contient 284807 entrées et 31 colonnes. Toutes les colonnes ont des valeurs non nulles (284807 non-null) et les types de données sont principalement des float64, à l'exception de la colonne Class, qui est de type int64."
   ]
  },
  {
   "cell_type": "code",
   "execution_count": 179,
   "id": "db137681-eb23-4d51-89bf-986cc1164ba5",
   "metadata": {},
   "outputs": [
    {
     "data": {
      "text/html": [
       "<div>\n",
       "<style scoped>\n",
       "    .dataframe tbody tr th:only-of-type {\n",
       "        vertical-align: middle;\n",
       "    }\n",
       "\n",
       "    .dataframe tbody tr th {\n",
       "        vertical-align: top;\n",
       "    }\n",
       "\n",
       "    .dataframe thead th {\n",
       "        text-align: right;\n",
       "    }\n",
       "</style>\n",
       "<table border=\"1\" class=\"dataframe\">\n",
       "  <thead>\n",
       "    <tr style=\"text-align: right;\">\n",
       "      <th></th>\n",
       "      <th>Time</th>\n",
       "      <th>V1</th>\n",
       "      <th>V2</th>\n",
       "      <th>V3</th>\n",
       "      <th>V4</th>\n",
       "      <th>V5</th>\n",
       "      <th>V6</th>\n",
       "      <th>V7</th>\n",
       "      <th>V8</th>\n",
       "      <th>V9</th>\n",
       "      <th>...</th>\n",
       "      <th>V21</th>\n",
       "      <th>V22</th>\n",
       "      <th>V23</th>\n",
       "      <th>V24</th>\n",
       "      <th>V25</th>\n",
       "      <th>V26</th>\n",
       "      <th>V27</th>\n",
       "      <th>V28</th>\n",
       "      <th>Amount</th>\n",
       "      <th>Class</th>\n",
       "    </tr>\n",
       "  </thead>\n",
       "  <tbody>\n",
       "    <tr>\n",
       "      <th>count</th>\n",
       "      <td>284807.000000</td>\n",
       "      <td>2.848070e+05</td>\n",
       "      <td>2.848070e+05</td>\n",
       "      <td>2.848070e+05</td>\n",
       "      <td>2.848070e+05</td>\n",
       "      <td>2.848070e+05</td>\n",
       "      <td>2.848070e+05</td>\n",
       "      <td>2.848070e+05</td>\n",
       "      <td>2.848070e+05</td>\n",
       "      <td>2.848070e+05</td>\n",
       "      <td>...</td>\n",
       "      <td>2.848070e+05</td>\n",
       "      <td>2.848070e+05</td>\n",
       "      <td>2.848070e+05</td>\n",
       "      <td>2.848070e+05</td>\n",
       "      <td>2.848070e+05</td>\n",
       "      <td>2.848070e+05</td>\n",
       "      <td>2.848070e+05</td>\n",
       "      <td>2.848070e+05</td>\n",
       "      <td>284807.000000</td>\n",
       "      <td>284807.000000</td>\n",
       "    </tr>\n",
       "    <tr>\n",
       "      <th>mean</th>\n",
       "      <td>94813.859575</td>\n",
       "      <td>1.168375e-15</td>\n",
       "      <td>3.416908e-16</td>\n",
       "      <td>-1.379537e-15</td>\n",
       "      <td>2.074095e-15</td>\n",
       "      <td>9.604066e-16</td>\n",
       "      <td>1.487313e-15</td>\n",
       "      <td>-5.556467e-16</td>\n",
       "      <td>1.213481e-16</td>\n",
       "      <td>-2.406331e-15</td>\n",
       "      <td>...</td>\n",
       "      <td>1.654067e-16</td>\n",
       "      <td>-3.568593e-16</td>\n",
       "      <td>2.578648e-16</td>\n",
       "      <td>4.473266e-15</td>\n",
       "      <td>5.340915e-16</td>\n",
       "      <td>1.683437e-15</td>\n",
       "      <td>-3.660091e-16</td>\n",
       "      <td>-1.227390e-16</td>\n",
       "      <td>88.349619</td>\n",
       "      <td>0.001727</td>\n",
       "    </tr>\n",
       "    <tr>\n",
       "      <th>std</th>\n",
       "      <td>47488.145955</td>\n",
       "      <td>1.958696e+00</td>\n",
       "      <td>1.651309e+00</td>\n",
       "      <td>1.516255e+00</td>\n",
       "      <td>1.415869e+00</td>\n",
       "      <td>1.380247e+00</td>\n",
       "      <td>1.332271e+00</td>\n",
       "      <td>1.237094e+00</td>\n",
       "      <td>1.194353e+00</td>\n",
       "      <td>1.098632e+00</td>\n",
       "      <td>...</td>\n",
       "      <td>7.345240e-01</td>\n",
       "      <td>7.257016e-01</td>\n",
       "      <td>6.244603e-01</td>\n",
       "      <td>6.056471e-01</td>\n",
       "      <td>5.212781e-01</td>\n",
       "      <td>4.822270e-01</td>\n",
       "      <td>4.036325e-01</td>\n",
       "      <td>3.300833e-01</td>\n",
       "      <td>250.120109</td>\n",
       "      <td>0.041527</td>\n",
       "    </tr>\n",
       "    <tr>\n",
       "      <th>min</th>\n",
       "      <td>0.000000</td>\n",
       "      <td>-5.640751e+01</td>\n",
       "      <td>-7.271573e+01</td>\n",
       "      <td>-4.832559e+01</td>\n",
       "      <td>-5.683171e+00</td>\n",
       "      <td>-1.137433e+02</td>\n",
       "      <td>-2.616051e+01</td>\n",
       "      <td>-4.355724e+01</td>\n",
       "      <td>-7.321672e+01</td>\n",
       "      <td>-1.343407e+01</td>\n",
       "      <td>...</td>\n",
       "      <td>-3.483038e+01</td>\n",
       "      <td>-1.093314e+01</td>\n",
       "      <td>-4.480774e+01</td>\n",
       "      <td>-2.836627e+00</td>\n",
       "      <td>-1.029540e+01</td>\n",
       "      <td>-2.604551e+00</td>\n",
       "      <td>-2.256568e+01</td>\n",
       "      <td>-1.543008e+01</td>\n",
       "      <td>0.000000</td>\n",
       "      <td>0.000000</td>\n",
       "    </tr>\n",
       "    <tr>\n",
       "      <th>25%</th>\n",
       "      <td>54201.500000</td>\n",
       "      <td>-9.203734e-01</td>\n",
       "      <td>-5.985499e-01</td>\n",
       "      <td>-8.903648e-01</td>\n",
       "      <td>-8.486401e-01</td>\n",
       "      <td>-6.915971e-01</td>\n",
       "      <td>-7.682956e-01</td>\n",
       "      <td>-5.540759e-01</td>\n",
       "      <td>-2.086297e-01</td>\n",
       "      <td>-6.430976e-01</td>\n",
       "      <td>...</td>\n",
       "      <td>-2.283949e-01</td>\n",
       "      <td>-5.423504e-01</td>\n",
       "      <td>-1.618463e-01</td>\n",
       "      <td>-3.545861e-01</td>\n",
       "      <td>-3.171451e-01</td>\n",
       "      <td>-3.269839e-01</td>\n",
       "      <td>-7.083953e-02</td>\n",
       "      <td>-5.295979e-02</td>\n",
       "      <td>5.600000</td>\n",
       "      <td>0.000000</td>\n",
       "    </tr>\n",
       "    <tr>\n",
       "      <th>50%</th>\n",
       "      <td>84692.000000</td>\n",
       "      <td>1.810880e-02</td>\n",
       "      <td>6.548556e-02</td>\n",
       "      <td>1.798463e-01</td>\n",
       "      <td>-1.984653e-02</td>\n",
       "      <td>-5.433583e-02</td>\n",
       "      <td>-2.741871e-01</td>\n",
       "      <td>4.010308e-02</td>\n",
       "      <td>2.235804e-02</td>\n",
       "      <td>-5.142873e-02</td>\n",
       "      <td>...</td>\n",
       "      <td>-2.945017e-02</td>\n",
       "      <td>6.781943e-03</td>\n",
       "      <td>-1.119293e-02</td>\n",
       "      <td>4.097606e-02</td>\n",
       "      <td>1.659350e-02</td>\n",
       "      <td>-5.213911e-02</td>\n",
       "      <td>1.342146e-03</td>\n",
       "      <td>1.124383e-02</td>\n",
       "      <td>22.000000</td>\n",
       "      <td>0.000000</td>\n",
       "    </tr>\n",
       "    <tr>\n",
       "      <th>75%</th>\n",
       "      <td>139320.500000</td>\n",
       "      <td>1.315642e+00</td>\n",
       "      <td>8.037239e-01</td>\n",
       "      <td>1.027196e+00</td>\n",
       "      <td>7.433413e-01</td>\n",
       "      <td>6.119264e-01</td>\n",
       "      <td>3.985649e-01</td>\n",
       "      <td>5.704361e-01</td>\n",
       "      <td>3.273459e-01</td>\n",
       "      <td>5.971390e-01</td>\n",
       "      <td>...</td>\n",
       "      <td>1.863772e-01</td>\n",
       "      <td>5.285536e-01</td>\n",
       "      <td>1.476421e-01</td>\n",
       "      <td>4.395266e-01</td>\n",
       "      <td>3.507156e-01</td>\n",
       "      <td>2.409522e-01</td>\n",
       "      <td>9.104512e-02</td>\n",
       "      <td>7.827995e-02</td>\n",
       "      <td>77.165000</td>\n",
       "      <td>0.000000</td>\n",
       "    </tr>\n",
       "    <tr>\n",
       "      <th>max</th>\n",
       "      <td>172792.000000</td>\n",
       "      <td>2.454930e+00</td>\n",
       "      <td>2.205773e+01</td>\n",
       "      <td>9.382558e+00</td>\n",
       "      <td>1.687534e+01</td>\n",
       "      <td>3.480167e+01</td>\n",
       "      <td>7.330163e+01</td>\n",
       "      <td>1.205895e+02</td>\n",
       "      <td>2.000721e+01</td>\n",
       "      <td>1.559499e+01</td>\n",
       "      <td>...</td>\n",
       "      <td>2.720284e+01</td>\n",
       "      <td>1.050309e+01</td>\n",
       "      <td>2.252841e+01</td>\n",
       "      <td>4.584549e+00</td>\n",
       "      <td>7.519589e+00</td>\n",
       "      <td>3.517346e+00</td>\n",
       "      <td>3.161220e+01</td>\n",
       "      <td>3.384781e+01</td>\n",
       "      <td>25691.160000</td>\n",
       "      <td>1.000000</td>\n",
       "    </tr>\n",
       "  </tbody>\n",
       "</table>\n",
       "<p>8 rows × 31 columns</p>\n",
       "</div>"
      ],
      "text/plain": [
       "                Time            V1            V2            V3            V4  \\\n",
       "count  284807.000000  2.848070e+05  2.848070e+05  2.848070e+05  2.848070e+05   \n",
       "mean    94813.859575  1.168375e-15  3.416908e-16 -1.379537e-15  2.074095e-15   \n",
       "std     47488.145955  1.958696e+00  1.651309e+00  1.516255e+00  1.415869e+00   \n",
       "min         0.000000 -5.640751e+01 -7.271573e+01 -4.832559e+01 -5.683171e+00   \n",
       "25%     54201.500000 -9.203734e-01 -5.985499e-01 -8.903648e-01 -8.486401e-01   \n",
       "50%     84692.000000  1.810880e-02  6.548556e-02  1.798463e-01 -1.984653e-02   \n",
       "75%    139320.500000  1.315642e+00  8.037239e-01  1.027196e+00  7.433413e-01   \n",
       "max    172792.000000  2.454930e+00  2.205773e+01  9.382558e+00  1.687534e+01   \n",
       "\n",
       "                 V5            V6            V7            V8            V9  \\\n",
       "count  2.848070e+05  2.848070e+05  2.848070e+05  2.848070e+05  2.848070e+05   \n",
       "mean   9.604066e-16  1.487313e-15 -5.556467e-16  1.213481e-16 -2.406331e-15   \n",
       "std    1.380247e+00  1.332271e+00  1.237094e+00  1.194353e+00  1.098632e+00   \n",
       "min   -1.137433e+02 -2.616051e+01 -4.355724e+01 -7.321672e+01 -1.343407e+01   \n",
       "25%   -6.915971e-01 -7.682956e-01 -5.540759e-01 -2.086297e-01 -6.430976e-01   \n",
       "50%   -5.433583e-02 -2.741871e-01  4.010308e-02  2.235804e-02 -5.142873e-02   \n",
       "75%    6.119264e-01  3.985649e-01  5.704361e-01  3.273459e-01  5.971390e-01   \n",
       "max    3.480167e+01  7.330163e+01  1.205895e+02  2.000721e+01  1.559499e+01   \n",
       "\n",
       "       ...           V21           V22           V23           V24  \\\n",
       "count  ...  2.848070e+05  2.848070e+05  2.848070e+05  2.848070e+05   \n",
       "mean   ...  1.654067e-16 -3.568593e-16  2.578648e-16  4.473266e-15   \n",
       "std    ...  7.345240e-01  7.257016e-01  6.244603e-01  6.056471e-01   \n",
       "min    ... -3.483038e+01 -1.093314e+01 -4.480774e+01 -2.836627e+00   \n",
       "25%    ... -2.283949e-01 -5.423504e-01 -1.618463e-01 -3.545861e-01   \n",
       "50%    ... -2.945017e-02  6.781943e-03 -1.119293e-02  4.097606e-02   \n",
       "75%    ...  1.863772e-01  5.285536e-01  1.476421e-01  4.395266e-01   \n",
       "max    ...  2.720284e+01  1.050309e+01  2.252841e+01  4.584549e+00   \n",
       "\n",
       "                V25           V26           V27           V28         Amount  \\\n",
       "count  2.848070e+05  2.848070e+05  2.848070e+05  2.848070e+05  284807.000000   \n",
       "mean   5.340915e-16  1.683437e-15 -3.660091e-16 -1.227390e-16      88.349619   \n",
       "std    5.212781e-01  4.822270e-01  4.036325e-01  3.300833e-01     250.120109   \n",
       "min   -1.029540e+01 -2.604551e+00 -2.256568e+01 -1.543008e+01       0.000000   \n",
       "25%   -3.171451e-01 -3.269839e-01 -7.083953e-02 -5.295979e-02       5.600000   \n",
       "50%    1.659350e-02 -5.213911e-02  1.342146e-03  1.124383e-02      22.000000   \n",
       "75%    3.507156e-01  2.409522e-01  9.104512e-02  7.827995e-02      77.165000   \n",
       "max    7.519589e+00  3.517346e+00  3.161220e+01  3.384781e+01   25691.160000   \n",
       "\n",
       "               Class  \n",
       "count  284807.000000  \n",
       "mean        0.001727  \n",
       "std         0.041527  \n",
       "min         0.000000  \n",
       "25%         0.000000  \n",
       "50%         0.000000  \n",
       "75%         0.000000  \n",
       "max         1.000000  \n",
       "\n",
       "[8 rows x 31 columns]"
      ]
     },
     "execution_count": 179,
     "metadata": {},
     "output_type": "execute_result"
    }
   ],
   "source": [
    "df.describe()"
   ]
  },
  {
   "cell_type": "code",
   "execution_count": 182,
   "id": "ab90453d-f064-477a-b651-e7c4ff831256",
   "metadata": {},
   "outputs": [
    {
     "data": {
      "image/png": "[encoded data removed]",
      "text/plain": [
       "<Figure size 640x480 with 1 Axes>"
      ]
     },
     "metadata": {},
     "output_type": "display_data"
    }
   ],
   "source": [
    "sns.countplot(x='Class', data=df)\n",
    "plt.title('Distribution des classes (Frauduleuses vs Non frauduleuses)')\n",
    "plt.show()\n"
   ]
  },
  {
   "cell_type": "markdown",
   "id": "2c701a33-40c0-4be1-a3b4-4c80802cdfa1",
   "metadata": {},
   "source": [
    "un fort déséquilibre entre les classes. La majorité des transactions sont non frauduleuses (classe 0), tandis que les transactions frauduleuses (classe 1) sont relativement rares. Cela indique un problème de déséquilibre des classes."
   ]
  },
  {
   "cell_type": "markdown",
   "id": "56bf686e-452e-45a4-9129-e777ed2b5fbe",
   "metadata": {},
   "source": [
    "## Séparer les variables indépendantes et la cible"
   ]
  },
  {
   "cell_type": "code",
   "execution_count": 187,
   "id": "bfad8808-fbbe-42b0-a5b2-5d9fec2b2b22",
   "metadata": {},
   "outputs": [],
   "source": [
    "X = df.drop(['Class'], axis=1)\n",
    "y = df['Class']\n"
   ]
  },
  {
   "cell_type": "markdown",
   "id": "7d1c8b01-0121-4442-a261-0905174141da",
   "metadata": {},
   "source": [
    "## Appliquer SMOTE pour suréchantillonner la classe minoritaire"
   ]
  },
  {
   "cell_type": "code",
   "execution_count": 190,
   "id": "42ef28f5-6035-4277-9736-b3d6938b868e",
   "metadata": {},
   "outputs": [],
   "source": [
    "smote = SMOTE(random_state=42)\n",
    "X_res, y_res = smote.fit_resample(X, y)"
   ]
  },
  {
   "cell_type": "markdown",
   "id": "60ce66cd-25d3-4b0e-8203-39e1af0ae39f",
   "metadata": {},
   "source": [
    "## Visualiser la nouvelle répartition des classes"
   ]
  },
  {
   "cell_type": "code",
   "execution_count": 193,
   "id": "21448bfe-e209-452c-9a18-902bc33deb2b",
   "metadata": {},
   "outputs": [
    {
     "data": {
      "image/png": "[encoded data removed]",
      "text/plain": [
       "<Figure size 640x480 with 1 Axes>"
      ]
     },
     "metadata": {},
     "output_type": "display_data"
    }
   ],
   "source": [
    "sns.countplot(x=y_res)\n",
    "plt.title('Distribution des classes après SMOTE')\n",
    "plt.show()\n"
   ]
  },
  {
   "cell_type": "markdown",
   "id": "4358ff6b-6482-439d-9245-8e59ab4748f3",
   "metadata": {},
   "source": [
    "## Prétraitement des données"
   ]
  },
  {
   "cell_type": "markdown",
   "id": "fa88af75-48ae-43ff-8878-1ccd6513f354",
   "metadata": {},
   "source": [
    "\n",
    "Avant de commencer l'entraînement du modèle, nous devons préparer les données. Cela inclut la normalisation des caractéristiques numériques et la gestion des valeurs manquantes. Nous allons également séparer les caractéristiques et les labels.\n"
   ]
  },
  {
   "cell_type": "markdown",
   "id": "74f4ecaf-98cd-4414-8ccb-8b415a3c1234",
   "metadata": {},
   "source": [
    "### Normaliser les colonnes 'Time' et 'Amount' "
   ]
  },
  {
   "cell_type": "code",
   "execution_count": 198,
   "id": "13c6dddd-24b4-40a7-8cac-4b746ce05a1d",
   "metadata": {},
   "outputs": [],
   "source": [
    "scaler = StandardScaler()\n",
    "X_res[['Time', 'Amount']] = scaler.fit_transform(X_res[['Time', 'Amount']])\n"
   ]
  },
  {
   "cell_type": "markdown",
   "id": "94a26cfe-8bf8-4bd9-9a75-5115c621fc78",
   "metadata": {},
   "source": [
    "### Diviser les données en train et validation "
   ]
  },
  {
   "cell_type": "code",
   "execution_count": 201,
   "id": "925f6e32-f217-4f32-81bf-eda8710f9583",
   "metadata": {},
   "outputs": [
    {
     "name": "stdout",
     "output_type": "stream",
     "text": [
      "Taille de l'ensemble d'entraînement: (454904, 30)\n",
      "Taille de l'ensemble de validation: (113726, 30)\n"
     ]
    }
   ],
   "source": [
    "X_train, X_val, y_train, y_val = train_test_split(X_res, y_res, test_size=0.2, random_state=42)\n",
    "#la taille des ensembles\n",
    "print(f\"Taille de l'ensemble d'entraînement: {X_train.shape}\")\n",
    "print(f\"Taille de l'ensemble de validation: {X_val.shape}\")\n"
   ]
  },
  {
   "cell_type": "markdown",
   "id": "2b99e5e4-04ae-4218-a5c0-8de5184689f4",
   "metadata": {},
   "source": [
    "## Création du modèle Deep Learning\n"
   ]
  },
  {
   "cell_type": "markdown",
   "id": "47002ad4-c561-4a32-b52e-34115e41a5b8",
   "metadata": {},
   "source": [
    "\n",
    "Dans cette étape, nous allons créer un modèle de réseau de neurones avec Keras. Le modèle sera un réseau simple à une couche d'entrée, une couche cachée et une couche de sortie avec une activation **sigmoid** pour la classification binaire.\n"
   ]
  },
  {
   "cell_type": "code",
   "execution_count": 205,
   "id": "80247049-f8d1-42f0-94ef-20cea0848c20",
   "metadata": {
    "scrolled": true
   },
   "outputs": [
    {
     "data": {
      "text/html": [
       "<pre style=\"white-space:pre;overflow-x:auto;line-height:normal;font-family:Menlo,'DejaVu Sans Mono',consolas,'Courier New',monospace\"><span style=\"font-weight: bold\">Model: \"sequential_7\"</span>\n",
       "</pre>\n"
      ],
      "text/plain": [
       "\u001b[1mModel: \"sequential_7\"\u001b[0m\n"
      ]
     },
     "metadata": {},
     "output_type": "display_data"
    },
    {
     "data": {
      "text/html": [
       "<pre style=\"white-space:pre;overflow-x:auto;line-height:normal;font-family:Menlo,'DejaVu Sans Mono',consolas,'Courier New',monospace\">┏━━━━━━━━━━━━━━━━━━━━━━━━━━━━━━━━━━━━━━┳━━━━━━━━━━━━━━━━━━━━━━━━━━━━━┳━━━━━━━━━━━━━━━━━┓\n",
       "┃<span style=\"font-weight: bold\"> Layer (type)                         </span>┃<span style=\"font-weight: bold\"> Output Shape                </span>┃<span style=\"font-weight: bold\">         Param # </span>┃\n",
       "┡━━━━━━━━━━━━━━━━━━━━━━━━━━━━━━━━━━━━━━╇━━━━━━━━━━━━━━━━━━━━━━━━━━━━━╇━━━━━━━━━━━━━━━━━┩\n",
       "│ dense_20 (<span style=\"color: #0087ff; text-decoration-color: #0087ff\">Dense</span>)                     │ (<span style=\"color: #00d7ff; text-decoration-color: #00d7ff\">None</span>, <span style=\"color: #00af00; text-decoration-color: #00af00\">64</span>)                  │           <span style=\"color: #00af00; text-decoration-color: #00af00\">1,984</span> │\n",
       "├──────────────────────────────────────┼─────────────────────────────┼─────────────────┤\n",
       "│ dense_21 (<span style=\"color: #0087ff; text-decoration-color: #0087ff\">Dense</span>)                     │ (<span style=\"color: #00d7ff; text-decoration-color: #00d7ff\">None</span>, <span style=\"color: #00af00; text-decoration-color: #00af00\">32</span>)                  │           <span style=\"color: #00af00; text-decoration-color: #00af00\">2,080</span> │\n",
       "├──────────────────────────────────────┼─────────────────────────────┼─────────────────┤\n",
       "│ dense_22 (<span style=\"color: #0087ff; text-decoration-color: #0087ff\">Dense</span>)                     │ (<span style=\"color: #00d7ff; text-decoration-color: #00d7ff\">None</span>, <span style=\"color: #00af00; text-decoration-color: #00af00\">16</span>)                  │             <span style=\"color: #00af00; text-decoration-color: #00af00\">528</span> │\n",
       "├──────────────────────────────────────┼─────────────────────────────┼─────────────────┤\n",
       "│ dense_23 (<span style=\"color: #0087ff; text-decoration-color: #0087ff\">Dense</span>)                     │ (<span style=\"color: #00d7ff; text-decoration-color: #00d7ff\">None</span>, <span style=\"color: #00af00; text-decoration-color: #00af00\">1</span>)                   │              <span style=\"color: #00af00; text-decoration-color: #00af00\">17</span> │\n",
       "└──────────────────────────────────────┴─────────────────────────────┴─────────────────┘\n",
       "</pre>\n"
      ],
      "text/plain": [
       "┏━━━━━━━━━━━━━━━━━━━━━━━━━━━━━━━━━━━━━━┳━━━━━━━━━━━━━━━━━━━━━━━━━━━━━┳━━━━━━━━━━━━━━━━━┓\n",
       "┃\u001b[1m \u001b[0m\u001b[1mLayer (type)                        \u001b[0m\u001b[1m \u001b[0m┃\u001b[1m \u001b[0m\u001b[1mOutput Shape               \u001b[0m\u001b[1m \u001b[0m┃\u001b[1m \u001b[0m\u001b[1m        Param #\u001b[0m\u001b[1m \u001b[0m┃\n",
       "┡━━━━━━━━━━━━━━━━━━━━━━━━━━━━━━━━━━━━━━╇━━━━━━━━━━━━━━━━━━━━━━━━━━━━━╇━━━━━━━━━━━━━━━━━┩\n",
       "│ dense_20 (\u001b[38;5;33mDense\u001b[0m)                     │ (\u001b[38;5;45mNone\u001b[0m, \u001b[38;5;34m64\u001b[0m)                  │           \u001b[38;5;34m1,984\u001b[0m │\n",
       "├──────────────────────────────────────┼─────────────────────────────┼─────────────────┤\n",
       "│ dense_21 (\u001b[38;5;33mDense\u001b[0m)                     │ (\u001b[38;5;45mNone\u001b[0m, \u001b[38;5;34m32\u001b[0m)                  │           \u001b[38;5;34m2,080\u001b[0m │\n",
       "├──────────────────────────────────────┼─────────────────────────────┼─────────────────┤\n",
       "│ dense_22 (\u001b[38;5;33mDense\u001b[0m)                     │ (\u001b[38;5;45mNone\u001b[0m, \u001b[38;5;34m16\u001b[0m)                  │             \u001b[38;5;34m528\u001b[0m │\n",
       "├──────────────────────────────────────┼─────────────────────────────┼─────────────────┤\n",
       "│ dense_23 (\u001b[38;5;33mDense\u001b[0m)                     │ (\u001b[38;5;45mNone\u001b[0m, \u001b[38;5;34m1\u001b[0m)                   │              \u001b[38;5;34m17\u001b[0m │\n",
       "└──────────────────────────────────────┴─────────────────────────────┴─────────────────┘\n"
      ]
     },
     "metadata": {},
     "output_type": "display_data"
    },
    {
     "data": {
      "text/html": [
       "<pre style=\"white-space:pre;overflow-x:auto;line-height:normal;font-family:Menlo,'DejaVu Sans Mono',consolas,'Courier New',monospace\"><span style=\"font-weight: bold\"> Total params: </span><span style=\"color: #00af00; text-decoration-color: #00af00\">4,609</span> (18.00 KB)\n",
       "</pre>\n"
      ],
      "text/plain": [
       "\u001b[1m Total params: \u001b[0m\u001b[38;5;34m4,609\u001b[0m (18.00 KB)\n"
      ]
     },
     "metadata": {},
     "output_type": "display_data"
    },
    {
     "data": {
      "text/html": [
       "<pre style=\"white-space:pre;overflow-x:auto;line-height:normal;font-family:Menlo,'DejaVu Sans Mono',consolas,'Courier New',monospace\"><span style=\"font-weight: bold\"> Trainable params: </span><span style=\"color: #00af00; text-decoration-color: #00af00\">4,609</span> (18.00 KB)\n",
       "</pre>\n"
      ],
      "text/plain": [
       "\u001b[1m Trainable params: \u001b[0m\u001b[38;5;34m4,609\u001b[0m (18.00 KB)\n"
      ]
     },
     "metadata": {},
     "output_type": "display_data"
    },
    {
     "data": {
      "text/html": [
       "<pre style=\"white-space:pre;overflow-x:auto;line-height:normal;font-family:Menlo,'DejaVu Sans Mono',consolas,'Courier New',monospace\"><span style=\"font-weight: bold\"> Non-trainable params: </span><span style=\"color: #00af00; text-decoration-color: #00af00\">0</span> (0.00 B)\n",
       "</pre>\n"
      ],
      "text/plain": [
       "\u001b[1m Non-trainable params: \u001b[0m\u001b[38;5;34m0\u001b[0m (0.00 B)\n"
      ]
     },
     "metadata": {},
     "output_type": "display_data"
    }
   ],
   "source": [
    "model = Sequential()\n",
    "model.add(Input(shape=(X_train.shape[1],)))  \n",
    "model.add(Dense(64, activation='relu'))\n",
    "model.add(Dense(32, activation='relu'))\n",
    "model.add(Dense(16, activation='relu'))\n",
    "model.add(Dense(1, activation='sigmoid'))\n",
    "\n",
    "model.compile(optimizer='adam', \n",
    "              loss='binary_crossentropy', \n",
    "              metrics=['accuracy', Recall(), 'AUC'])\n",
    "model.summary()\n"
   ]
  },
  {
   "cell_type": "markdown",
   "id": "515ba0e6-797d-4679-8819-a6600e5f2e4d",
   "metadata": {},
   "source": [
    "Le modèle Sequential se compose de 4 couches Dense successives. La première couche contient 64 neurones avec un total de 1,984 paramètres, suivie d'une deuxième couche avec 32 neurones et 2,080 paramètres. La troisième couche comporte 16 neurones avec 528 paramètres, et la couche de sortie a un seul neurone avec 17 paramètres. Le modèle totalise 4,609 paramètres, tous entraînables, et aucun paramètre non entraînable."
   ]
  },
  {
   "cell_type": "markdown",
   "id": "8827fc54-47e5-4fab-92e3-3837f70c2be0",
   "metadata": {},
   "source": [
    "## Entraînement du modèle avec les données d'entraînement et de validation\n"
   ]
  },
  {
   "cell_type": "code",
   "execution_count": 209,
   "id": "10a77e54-7121-4086-962f-bef4031ed602",
   "metadata": {},
   "outputs": [
    {
     "name": "stdout",
     "output_type": "stream",
     "text": [
      "Epoch 1/50\n",
      "\u001b[1m1777/1777\u001b[0m \u001b[32m━━━━━━━━━━━━━━━━━━━━\u001b[0m\u001b[37m\u001b[0m \u001b[1m8s\u001b[0m 3ms/step - AUC: 0.9964 - accuracy: 0.9810 - loss: 0.0608 - recall_4: 0.9793 - val_AUC: 0.9998 - val_accuracy: 0.9983 - val_loss: 0.0062 - val_recall_4: 0.9992\n",
      "Epoch 2/50\n",
      "\u001b[1m1777/1777\u001b[0m \u001b[32m━━━━━━━━━━━━━━━━━━━━\u001b[0m\u001b[37m\u001b[0m \u001b[1m5s\u001b[0m 3ms/step - AUC: 0.9998 - accuracy: 0.9988 - loss: 0.0051 - recall_4: 0.9992 - val_AUC: 0.9999 - val_accuracy: 0.9993 - val_loss: 0.0035 - val_recall_4: 0.9997\n",
      "Epoch 3/50\n",
      "\u001b[1m1777/1777\u001b[0m \u001b[32m━━━━━━━━━━━━━━━━━━━━\u001b[0m\u001b[37m\u001b[0m \u001b[1m5s\u001b[0m 3ms/step - AUC: 0.9998 - accuracy: 0.9993 - loss: 0.0033 - recall_4: 0.9996 - val_AUC: 0.9997 - val_accuracy: 0.9981 - val_loss: 0.0070 - val_recall_4: 1.0000\n",
      "Epoch 4/50\n",
      "\u001b[1m1777/1777\u001b[0m \u001b[32m━━━━━━━━━━━━━━━━━━━━\u001b[0m\u001b[37m\u001b[0m \u001b[1m5s\u001b[0m 3ms/step - AUC: 0.9998 - accuracy: 0.9994 - loss: 0.0028 - recall_4: 0.9997 - val_AUC: 0.9998 - val_accuracy: 0.9993 - val_loss: 0.0035 - val_recall_4: 0.9999\n",
      "Epoch 5/50\n",
      "\u001b[1m1777/1777\u001b[0m \u001b[32m━━━━━━━━━━━━━━━━━━━━\u001b[0m\u001b[37m\u001b[0m \u001b[1m5s\u001b[0m 3ms/step - AUC: 0.9999 - accuracy: 0.9996 - loss: 0.0020 - recall_4: 0.9998 - val_AUC: 0.9998 - val_accuracy: 0.9994 - val_loss: 0.0027 - val_recall_4: 0.9997\n",
      "Epoch 6/50\n",
      "\u001b[1m1777/1777\u001b[0m \u001b[32m━━━━━━━━━━━━━━━━━━━━\u001b[0m\u001b[37m\u001b[0m \u001b[1m5s\u001b[0m 3ms/step - AUC: 0.9999 - accuracy: 0.9994 - loss: 0.0024 - recall_4: 0.9997 - val_AUC: 0.9998 - val_accuracy: 0.9995 - val_loss: 0.0026 - val_recall_4: 0.9998\n",
      "Epoch 7/50\n",
      "\u001b[1m1777/1777\u001b[0m \u001b[32m━━━━━━━━━━━━━━━━━━━━\u001b[0m\u001b[37m\u001b[0m \u001b[1m6s\u001b[0m 3ms/step - AUC: 0.9999 - accuracy: 0.9996 - loss: 0.0019 - recall_4: 0.9998 - val_AUC: 0.9999 - val_accuracy: 0.9996 - val_loss: 0.0023 - val_recall_4: 0.9998\n",
      "Epoch 8/50\n",
      "\u001b[1m1777/1777\u001b[0m \u001b[32m━━━━━━━━━━━━━━━━━━━━\u001b[0m\u001b[37m\u001b[0m \u001b[1m5s\u001b[0m 3ms/step - AUC: 0.9999 - accuracy: 0.9996 - loss: 0.0017 - recall_4: 0.9998 - val_AUC: 0.9998 - val_accuracy: 0.9994 - val_loss: 0.0026 - val_recall_4: 0.9997\n",
      "Epoch 9/50\n",
      "\u001b[1m1777/1777\u001b[0m \u001b[32m━━━━━━━━━━━━━━━━━━━━\u001b[0m\u001b[37m\u001b[0m \u001b[1m5s\u001b[0m 3ms/step - AUC: 0.9999 - accuracy: 0.9996 - loss: 0.0015 - recall_4: 0.9998 - val_AUC: 0.9999 - val_accuracy: 0.9995 - val_loss: 0.0020 - val_recall_4: 1.0000\n",
      "Epoch 10/50\n",
      "\u001b[1m1777/1777\u001b[0m \u001b[32m━━━━━━━━━━━━━━━━━━━━\u001b[0m\u001b[37m\u001b[0m \u001b[1m5s\u001b[0m 3ms/step - AUC: 0.9999 - accuracy: 0.9997 - loss: 0.0014 - recall_4: 0.9999 - val_AUC: 0.9998 - val_accuracy: 0.9993 - val_loss: 0.0032 - val_recall_4: 0.9998\n",
      "Epoch 11/50\n",
      "\u001b[1m1777/1777\u001b[0m \u001b[32m━━━━━━━━━━━━━━━━━━━━\u001b[0m\u001b[37m\u001b[0m \u001b[1m5s\u001b[0m 3ms/step - AUC: 0.9999 - accuracy: 0.9997 - loss: 0.0015 - recall_4: 0.9999 - val_AUC: 0.9999 - val_accuracy: 0.9995 - val_loss: 0.0022 - val_recall_4: 1.0000\n",
      "Epoch 12/50\n",
      "\u001b[1m1777/1777\u001b[0m \u001b[32m━━━━━━━━━━━━━━━━━━━━\u001b[0m\u001b[37m\u001b[0m \u001b[1m5s\u001b[0m 3ms/step - AUC: 0.9999 - accuracy: 0.9997 - loss: 0.0015 - recall_4: 0.9998 - val_AUC: 0.9999 - val_accuracy: 0.9996 - val_loss: 0.0017 - val_recall_4: 1.0000\n",
      "Epoch 13/50\n",
      "\u001b[1m1777/1777\u001b[0m \u001b[32m━━━━━━━━━━━━━━━━━━━━\u001b[0m\u001b[37m\u001b[0m \u001b[1m5s\u001b[0m 3ms/step - AUC: 0.9999 - accuracy: 0.9997 - loss: 0.0012 - recall_4: 0.9999 - val_AUC: 0.9999 - val_accuracy: 0.9994 - val_loss: 0.0027 - val_recall_4: 0.9999\n",
      "Epoch 14/50\n",
      "\u001b[1m1777/1777\u001b[0m \u001b[32m━━━━━━━━━━━━━━━━━━━━\u001b[0m\u001b[37m\u001b[0m \u001b[1m5s\u001b[0m 3ms/step - AUC: 0.9999 - accuracy: 0.9997 - loss: 0.0012 - recall_4: 0.9999 - val_AUC: 0.9999 - val_accuracy: 0.9996 - val_loss: 0.0017 - val_recall_4: 1.0000\n",
      "Epoch 15/50\n",
      "\u001b[1m1777/1777\u001b[0m \u001b[32m━━━━━━━━━━━━━━━━━━━━\u001b[0m\u001b[37m\u001b[0m \u001b[1m5s\u001b[0m 3ms/step - AUC: 0.9999 - accuracy: 0.9996 - loss: 0.0013 - recall_4: 0.9998 - val_AUC: 0.9999 - val_accuracy: 0.9997 - val_loss: 0.0014 - val_recall_4: 1.0000\n",
      "Epoch 16/50\n",
      "\u001b[1m1777/1777\u001b[0m \u001b[32m━━━━━━━━━━━━━━━━━━━━\u001b[0m\u001b[37m\u001b[0m \u001b[1m5s\u001b[0m 3ms/step - AUC: 1.0000 - accuracy: 0.9998 - loss: 0.0010 - recall_4: 0.9999 - val_AUC: 0.9999 - val_accuracy: 0.9997 - val_loss: 0.0018 - val_recall_4: 1.0000\n",
      "Epoch 17/50\n",
      "\u001b[1m1777/1777\u001b[0m \u001b[32m━━━━━━━━━━━━━━━━━━━━\u001b[0m\u001b[37m\u001b[0m \u001b[1m5s\u001b[0m 3ms/step - AUC: 1.0000 - accuracy: 0.9998 - loss: 7.6660e-04 - recall_4: 1.0000 - val_AUC: 0.9999 - val_accuracy: 0.9997 - val_loss: 0.0020 - val_recall_4: 0.9998\n",
      "Epoch 18/50\n",
      "\u001b[1m1777/1777\u001b[0m \u001b[32m━━━━━━━━━━━━━━━━━━━━\u001b[0m\u001b[37m\u001b[0m \u001b[1m5s\u001b[0m 3ms/step - AUC: 0.9999 - accuracy: 0.9998 - loss: 0.0010 - recall_4: 0.9999 - val_AUC: 0.9999 - val_accuracy: 0.9997 - val_loss: 0.0022 - val_recall_4: 1.0000\n",
      "Epoch 19/50\n",
      "\u001b[1m1777/1777\u001b[0m \u001b[32m━━━━━━━━━━━━━━━━━━━━\u001b[0m\u001b[37m\u001b[0m \u001b[1m6s\u001b[0m 3ms/step - AUC: 1.0000 - accuracy: 0.9998 - loss: 7.4500e-04 - recall_4: 0.9999 - val_AUC: 0.9999 - val_accuracy: 0.9997 - val_loss: 0.0016 - val_recall_4: 1.0000\n",
      "Epoch 20/50\n",
      "\u001b[1m1777/1777\u001b[0m \u001b[32m━━━━━━━━━━━━━━━━━━━━\u001b[0m\u001b[37m\u001b[0m \u001b[1m5s\u001b[0m 3ms/step - AUC: 1.0000 - accuracy: 0.9998 - loss: 9.8288e-04 - recall_4: 0.9999 - val_AUC: 0.9999 - val_accuracy: 0.9996 - val_loss: 0.0022 - val_recall_4: 0.9998\n",
      "Epoch 21/50\n",
      "\u001b[1m1777/1777\u001b[0m \u001b[32m━━━━━━━━━━━━━━━━━━━━\u001b[0m\u001b[37m\u001b[0m \u001b[1m5s\u001b[0m 3ms/step - AUC: 1.0000 - accuracy: 0.9998 - loss: 7.8166e-04 - recall_4: 0.9999 - val_AUC: 0.9999 - val_accuracy: 0.9996 - val_loss: 0.0021 - val_recall_4: 0.9998\n",
      "Epoch 22/50\n",
      "\u001b[1m1777/1777\u001b[0m \u001b[32m━━━━━━━━━━━━━━━━━━━━\u001b[0m\u001b[37m\u001b[0m \u001b[1m5s\u001b[0m 3ms/step - AUC: 1.0000 - accuracy: 0.9999 - loss: 5.3017e-04 - recall_4: 0.9999 - val_AUC: 0.9998 - val_accuracy: 0.9997 - val_loss: 0.0021 - val_recall_4: 1.0000\n",
      "Epoch 23/50\n",
      "\u001b[1m1777/1777\u001b[0m \u001b[32m━━━━━━━━━━━━━━━━━━━━\u001b[0m\u001b[37m\u001b[0m \u001b[1m5s\u001b[0m 3ms/step - AUC: 1.0000 - accuracy: 0.9998 - loss: 8.5176e-04 - recall_4: 0.9999 - val_AUC: 0.9999 - val_accuracy: 0.9996 - val_loss: 0.0022 - val_recall_4: 1.0000\n",
      "Epoch 24/50\n",
      "\u001b[1m1777/1777\u001b[0m \u001b[32m━━━━━━━━━━━━━━━━━━━━\u001b[0m\u001b[37m\u001b[0m \u001b[1m5s\u001b[0m 3ms/step - AUC: 0.9999 - accuracy: 0.9997 - loss: 0.0012 - recall_4: 0.9999 - val_AUC: 0.9999 - val_accuracy: 0.9997 - val_loss: 0.0015 - val_recall_4: 1.0000\n",
      "Epoch 25/50\n",
      "\u001b[1m1777/1777\u001b[0m \u001b[32m━━━━━━━━━━━━━━━━━━━━\u001b[0m\u001b[37m\u001b[0m \u001b[1m6s\u001b[0m 3ms/step - AUC: 1.0000 - accuracy: 0.9998 - loss: 9.6865e-04 - recall_4: 0.9999 - val_AUC: 0.9999 - val_accuracy: 0.9998 - val_loss: 0.0015 - val_recall_4: 1.0000\n",
      "Epoch 26/50\n",
      "\u001b[1m1777/1777\u001b[0m \u001b[32m━━━━━━━━━━━━━━━━━━━━\u001b[0m\u001b[37m\u001b[0m \u001b[1m5s\u001b[0m 3ms/step - AUC: 1.0000 - accuracy: 0.9999 - loss: 4.7542e-04 - recall_4: 0.9999 - val_AUC: 0.9998 - val_accuracy: 0.9996 - val_loss: 0.0026 - val_recall_4: 1.0000\n",
      "Epoch 27/50\n",
      "\u001b[1m1777/1777\u001b[0m \u001b[32m━━━━━━━━━━━━━━━━━━━━\u001b[0m\u001b[37m\u001b[0m \u001b[1m5s\u001b[0m 3ms/step - AUC: 1.0000 - accuracy: 0.9998 - loss: 7.2099e-04 - recall_4: 0.9999 - val_AUC: 0.9999 - val_accuracy: 0.9996 - val_loss: 0.0020 - val_recall_4: 1.0000\n",
      "Epoch 28/50\n",
      "\u001b[1m1777/1777\u001b[0m \u001b[32m━━━━━━━━━━━━━━━━━━━━\u001b[0m\u001b[37m\u001b[0m \u001b[1m6s\u001b[0m 3ms/step - AUC: 1.0000 - accuracy: 0.9998 - loss: 6.0835e-04 - recall_4: 0.9999 - val_AUC: 0.9999 - val_accuracy: 0.9997 - val_loss: 0.0016 - val_recall_4: 1.0000\n",
      "Epoch 29/50\n",
      "\u001b[1m1777/1777\u001b[0m \u001b[32m━━━━━━━━━━━━━━━━━━━━\u001b[0m\u001b[37m\u001b[0m \u001b[1m5s\u001b[0m 3ms/step - AUC: 1.0000 - accuracy: 0.9999 - loss: 5.6980e-04 - recall_4: 0.9999 - val_AUC: 0.9999 - val_accuracy: 0.9998 - val_loss: 0.0014 - val_recall_4: 0.9999\n",
      "Epoch 30/50\n",
      "\u001b[1m1777/1777\u001b[0m \u001b[32m━━━━━━━━━━━━━━━━━━━━\u001b[0m\u001b[37m\u001b[0m \u001b[1m6s\u001b[0m 4ms/step - AUC: 1.0000 - accuracy: 0.9999 - loss: 4.8563e-04 - recall_4: 0.9999 - val_AUC: 0.9999 - val_accuracy: 0.9997 - val_loss: 0.0014 - val_recall_4: 0.9999\n",
      "Epoch 31/50\n",
      "\u001b[1m1777/1777\u001b[0m \u001b[32m━━━━━━━━━━━━━━━━━━━━\u001b[0m\u001b[37m\u001b[0m \u001b[1m5s\u001b[0m 3ms/step - AUC: 1.0000 - accuracy: 0.9998 - loss: 5.8724e-04 - recall_4: 0.9999 - val_AUC: 0.9999 - val_accuracy: 0.9998 - val_loss: 0.0013 - val_recall_4: 1.0000\n",
      "Epoch 32/50\n",
      "\u001b[1m1777/1777\u001b[0m \u001b[32m━━━━━━━━━━━━━━━━━━━━\u001b[0m\u001b[37m\u001b[0m \u001b[1m5s\u001b[0m 3ms/step - AUC: 1.0000 - accuracy: 0.9999 - loss: 4.8310e-04 - recall_4: 0.9999 - val_AUC: 0.9999 - val_accuracy: 0.9997 - val_loss: 0.0022 - val_recall_4: 1.0000\n",
      "Epoch 33/50\n",
      "\u001b[1m1777/1777\u001b[0m \u001b[32m━━━━━━━━━━━━━━━━━━━━\u001b[0m\u001b[37m\u001b[0m \u001b[1m5s\u001b[0m 3ms/step - AUC: 1.0000 - accuracy: 0.9999 - loss: 3.6251e-04 - recall_4: 1.0000 - val_AUC: 0.9998 - val_accuracy: 0.9997 - val_loss: 0.0022 - val_recall_4: 1.0000\n",
      "Epoch 34/50\n",
      "\u001b[1m1777/1777\u001b[0m \u001b[32m━━━━━━━━━━━━━━━━━━━━\u001b[0m\u001b[37m\u001b[0m \u001b[1m11s\u001b[0m 3ms/step - AUC: 1.0000 - accuracy: 0.9999 - loss: 4.4660e-04 - recall_4: 0.9999 - val_AUC: 0.9999 - val_accuracy: 0.9998 - val_loss: 0.0014 - val_recall_4: 1.0000\n",
      "Epoch 35/50\n",
      "\u001b[1m1777/1777\u001b[0m \u001b[32m━━━━━━━━━━━━━━━━━━━━\u001b[0m\u001b[37m\u001b[0m \u001b[1m5s\u001b[0m 3ms/step - AUC: 1.0000 - accuracy: 0.9999 - loss: 5.0092e-04 - recall_4: 1.0000 - val_AUC: 0.9999 - val_accuracy: 0.9998 - val_loss: 0.0015 - val_recall_4: 1.0000\n",
      "Epoch 36/50\n",
      "\u001b[1m1777/1777\u001b[0m \u001b[32m━━━━━━━━━━━━━━━━━━━━\u001b[0m\u001b[37m\u001b[0m \u001b[1m5s\u001b[0m 3ms/step - AUC: 1.0000 - accuracy: 0.9999 - loss: 4.7658e-04 - recall_4: 0.9999 - val_AUC: 0.9999 - val_accuracy: 0.9998 - val_loss: 0.0014 - val_recall_4: 1.0000\n",
      "Epoch 37/50\n",
      "\u001b[1m1777/1777\u001b[0m \u001b[32m━━━━━━━━━━━━━━━━━━━━\u001b[0m\u001b[37m\u001b[0m \u001b[1m6s\u001b[0m 3ms/step - AUC: 1.0000 - accuracy: 0.9999 - loss: 2.7425e-04 - recall_4: 0.9999 - val_AUC: 0.9999 - val_accuracy: 0.9996 - val_loss: 0.0024 - val_recall_4: 0.9998\n",
      "Epoch 38/50\n",
      "\u001b[1m1777/1777\u001b[0m \u001b[32m━━━━━━━━━━━━━━━━━━━━\u001b[0m\u001b[37m\u001b[0m \u001b[1m5s\u001b[0m 3ms/step - AUC: 1.0000 - accuracy: 0.9999 - loss: 5.4900e-04 - recall_4: 0.9999 - val_AUC: 0.9999 - val_accuracy: 0.9998 - val_loss: 0.0018 - val_recall_4: 1.0000\n",
      "Epoch 39/50\n",
      "\u001b[1m1777/1777\u001b[0m \u001b[32m━━━━━━━━━━━━━━━━━━━━\u001b[0m\u001b[37m\u001b[0m \u001b[1m6s\u001b[0m 3ms/step - AUC: 1.0000 - accuracy: 0.9999 - loss: 3.9341e-04 - recall_4: 0.9999 - val_AUC: 0.9998 - val_accuracy: 0.9997 - val_loss: 0.0022 - val_recall_4: 1.0000\n",
      "Epoch 40/50\n",
      "\u001b[1m1777/1777\u001b[0m \u001b[32m━━━━━━━━━━━━━━━━━━━━\u001b[0m\u001b[37m\u001b[0m \u001b[1m6s\u001b[0m 3ms/step - AUC: 1.0000 - accuracy: 0.9999 - loss: 4.6632e-04 - recall_4: 0.9999 - val_AUC: 0.9999 - val_accuracy: 0.9997 - val_loss: 0.0022 - val_recall_4: 1.0000\n",
      "Epoch 41/50\n",
      "\u001b[1m1777/1777\u001b[0m \u001b[32m━━━━━━━━━━━━━━━━━━━━\u001b[0m\u001b[37m\u001b[0m \u001b[1m5s\u001b[0m 3ms/step - AUC: 1.0000 - accuracy: 0.9999 - loss: 4.9045e-04 - recall_4: 0.9999 - val_AUC: 0.9999 - val_accuracy: 0.9997 - val_loss: 0.0019 - val_recall_4: 0.9997\n",
      "Epoch 42/50\n",
      "\u001b[1m1777/1777\u001b[0m \u001b[32m━━━━━━━━━━━━━━━━━━━━\u001b[0m\u001b[37m\u001b[0m \u001b[1m6s\u001b[0m 3ms/step - AUC: 1.0000 - accuracy: 0.9999 - loss: 5.0416e-04 - recall_4: 0.9999 - val_AUC: 0.9999 - val_accuracy: 0.9997 - val_loss: 0.0020 - val_recall_4: 1.0000\n",
      "Epoch 43/50\n",
      "\u001b[1m1777/1777\u001b[0m \u001b[32m━━━━━━━━━━━━━━━━━━━━\u001b[0m\u001b[37m\u001b[0m \u001b[1m6s\u001b[0m 3ms/step - AUC: 1.0000 - accuracy: 0.9999 - loss: 3.4109e-04 - recall_4: 0.9999 - val_AUC: 0.9999 - val_accuracy: 0.9998 - val_loss: 0.0016 - val_recall_4: 1.0000\n",
      "Epoch 44/50\n",
      "\u001b[1m1777/1777\u001b[0m \u001b[32m━━━━━━━━━━━━━━━━━━━━\u001b[0m\u001b[37m\u001b[0m \u001b[1m7s\u001b[0m 4ms/step - AUC: 1.0000 - accuracy: 0.9998 - loss: 6.3917e-04 - recall_4: 0.9999 - val_AUC: 0.9999 - val_accuracy: 0.9997 - val_loss: 0.0016 - val_recall_4: 0.9998\n",
      "Epoch 45/50\n",
      "\u001b[1m1777/1777\u001b[0m \u001b[32m━━━━━━━━━━━━━━━━━━━━\u001b[0m\u001b[37m\u001b[0m \u001b[1m7s\u001b[0m 4ms/step - AUC: 1.0000 - accuracy: 0.9999 - loss: 3.6822e-04 - recall_4: 0.9999 - val_AUC: 0.9999 - val_accuracy: 0.9997 - val_loss: 0.0021 - val_recall_4: 1.0000\n",
      "Epoch 46/50\n",
      "\u001b[1m1777/1777\u001b[0m \u001b[32m━━━━━━━━━━━━━━━━━━━━\u001b[0m\u001b[37m\u001b[0m \u001b[1m6s\u001b[0m 3ms/step - AUC: 1.0000 - accuracy: 0.9999 - loss: 2.8494e-04 - recall_4: 1.0000 - val_AUC: 0.9999 - val_accuracy: 0.9998 - val_loss: 0.0016 - val_recall_4: 1.0000\n",
      "Epoch 47/50\n",
      "\u001b[1m1777/1777\u001b[0m \u001b[32m━━━━━━━━━━━━━━━━━━━━\u001b[0m\u001b[37m\u001b[0m \u001b[1m6s\u001b[0m 3ms/step - AUC: 1.0000 - accuracy: 0.9999 - loss: 2.9066e-04 - recall_4: 1.0000 - val_AUC: 0.9999 - val_accuracy: 0.9998 - val_loss: 0.0015 - val_recall_4: 1.0000\n",
      "Epoch 48/50\n",
      "\u001b[1m1777/1777\u001b[0m \u001b[32m━━━━━━━━━━━━━━━━━━━━\u001b[0m\u001b[37m\u001b[0m \u001b[1m6s\u001b[0m 3ms/step - AUC: 1.0000 - accuracy: 0.9999 - loss: 4.7543e-04 - recall_4: 0.9999 - val_AUC: 0.9998 - val_accuracy: 0.9996 - val_loss: 0.0026 - val_recall_4: 1.0000\n",
      "Epoch 49/50\n",
      "\u001b[1m1777/1777\u001b[0m \u001b[32m━━━━━━━━━━━━━━━━━━━━\u001b[0m\u001b[37m\u001b[0m \u001b[1m9s\u001b[0m 5ms/step - AUC: 1.0000 - accuracy: 0.9999 - loss: 3.6466e-04 - recall_4: 1.0000 - val_AUC: 0.9999 - val_accuracy: 0.9998 - val_loss: 0.0015 - val_recall_4: 1.0000\n",
      "Epoch 50/50\n",
      "\u001b[1m1777/1777\u001b[0m \u001b[32m━━━━━━━━━━━━━━━━━━━━\u001b[0m\u001b[37m\u001b[0m \u001b[1m7s\u001b[0m 4ms/step - AUC: 1.0000 - accuracy: 0.9999 - loss: 2.8424e-04 - recall_4: 1.0000 - val_AUC: 0.9999 - val_accuracy: 0.9998 - val_loss: 0.0017 - val_recall_4: 1.0000\n"
     ]
    }
   ],
   "source": [
    "history = model.fit(X_train, y_train, \n",
    "                    epochs=50,  \n",
    "                    batch_size=256, \n",
    "                    validation_data=(X_val, y_val)) \n"
   ]
  },
  {
   "cell_type": "markdown",
   "id": "535de6f0-3b0a-4f63-9afb-ca325ecb56c9",
   "metadata": {},
   "source": [
    "Le modèle a montré d'excellentes performances après 50 époques, avec une précision de 99.99%, un AUC de 1.000, et un rappel de 100% sur l'ensemble de validation. La perte est très faible, ce qui indique une bonne capacité à détecter les fraudes"
   ]
  },
  {
   "cell_type": "markdown",
   "id": "1bb9ed0a-8851-42a5-b880-235e0bfa8a83",
   "metadata": {},
   "source": [
    "## Évaluation des performances du modèle sur l'ensemble de validation\n"
   ]
  },
  {
   "cell_type": "code",
   "execution_count": 213,
   "id": "1df4614a-7e0b-45cb-9871-14ef0c3f605d",
   "metadata": {},
   "outputs": [
    {
     "name": "stdout",
     "output_type": "stream",
     "text": [
      "\u001b[1m3554/3554\u001b[0m \u001b[32m━━━━━━━━━━━━━━━━━━━━\u001b[0m\u001b[37m\u001b[0m \u001b[1m6s\u001b[0m 2ms/step - AUC: 0.9998 - accuracy: 0.9997 - loss: 0.0026 - recall_4: 1.0000\n",
      "Perte sur l'ensemble de validation : 0.0017201808514073491\n",
      "Précision sur l'ensemble de validation : 0.9997889399528503\n"
     ]
    }
   ],
   "source": [
    "results = model.evaluate(X_val, y_val)\n",
    "# Afficher la perte et la précision\n",
    "print(f\"Perte sur l'ensemble de validation : {results[0]}\")\n",
    "print(f\"Précision sur l'ensemble de validation : {results[1]}\")\n"
   ]
  },
  {
   "cell_type": "markdown",
   "id": "12746050-b4d9-4637-b695-511119110d64",
   "metadata": {},
   "source": [
    "## Courbe de perte pendant l'entraînement et la validation\n"
   ]
  },
  {
   "cell_type": "code",
   "execution_count": 216,
   "id": "75cb9a84-adf6-43dc-ac72-6bd3aab70702",
   "metadata": {},
   "outputs": [
    {
     "data": {
      "image/png": "[encoded data removed]",
      "text/plain": [
       "<Figure size 640x480 with 1 Axes>"
      ]
     },
     "metadata": {},
     "output_type": "display_data"
    }
   ],
   "source": [
    "plt.plot(history.history['loss'], label='Loss (Entraînement)', color='darkorange')\n",
    "plt.plot(history.history['val_loss'], label='Loss (Validation)', color='brown')\n",
    "plt.title('Courbe de perte pendant l\\'entraînement', fontsize=14)\n",
    "plt.xlabel('Époques', fontsize=12)\n",
    "plt.ylabel('Perte', fontsize=12)\n",
    "plt.legend()\n",
    "plt.show()\n"
   ]
  },
  {
   "cell_type": "markdown",
   "id": "6a0ad05e-05ee-42fa-81d0-62dd2c25853a",
   "metadata": {},
   "source": [
    "La courbe montre une diminution rapide de la perte pendant les premières époques, suivie d'une convergence stable pour l'entraînement et la validation, avec des valeurs proches de zéro."
   ]
  },
  {
   "cell_type": "markdown",
   "id": "d2bf23cd-82de-43c0-b06f-87bc5afd3aa8",
   "metadata": {},
   "source": [
    "## Courbe ROC pour évaluer la performance du modèle\n"
   ]
  },
  {
   "cell_type": "code",
   "execution_count": 220,
   "id": "5041c1de-5b2c-44cf-8efb-957cdbc3d8b8",
   "metadata": {},
   "outputs": [
    {
     "name": "stdout",
     "output_type": "stream",
     "text": [
      "\u001b[1m3554/3554\u001b[0m \u001b[32m━━━━━━━━━━━━━━━━━━━━\u001b[0m\u001b[37m\u001b[0m \u001b[1m4s\u001b[0m 1ms/step\n"
     ]
    },
    {
     "data": {
      "image/png": "[encoded data removed]",
      "text/plain": [
       "<Figure size 800x600 with 1 Axes>"
      ]
     },
     "metadata": {},
     "output_type": "display_data"
    }
   ],
   "source": [
    "y_pred_prob = model.predict(X_val)\n",
    "fpr, tpr, thresholds = roc_curve(y_val, y_pred_prob)\n",
    "roc_auc = auc(fpr, tpr)\n",
    "\n",
    "# Affichage\n",
    "plt.figure(figsize=(8,6))\n",
    "plt.plot(fpr, tpr, color='darkorange', lw=2, label='Courbe ROC (AUC = %0.2f)' % roc_auc)\n",
    "plt.plot([0, 1], [0, 1], color='gray', linestyle='--')\n",
    "plt.title('Courbe ROC')\n",
    "plt.xlabel('Taux de faux positifs (FPR)')\n",
    "plt.ylabel('Taux de vrais positifs (TPR)')\n",
    "plt.legend(loc='lower right')\n",
    "plt.show()\n"
   ]
  },
  {
   "cell_type": "markdown",
   "id": "6fe0eb9d-cb9e-4f14-bcb3-09d902261f60",
   "metadata": {},
   "source": [
    "## Matrice de confusion pour évaluer les performances du modèle\n"
   ]
  },
  {
   "cell_type": "code",
   "execution_count": 226,
   "id": "dbee9974-1888-4c4e-8851-91f2e12f1374",
   "metadata": {},
   "outputs": [
    {
     "name": "stdout",
     "output_type": "stream",
     "text": [
      "True Positives: 56976\n",
      "True Negatives: 56726\n"
     ]
    },
    {
     "data": {
      "image/png": "[encoded data removed]",
      "text/plain": [
       "<Figure size 800x600 with 2 Axes>"
      ]
     },
     "metadata": {},
     "output_type": "display_data"
    }
   ],
   "source": [
    "# prédictions sur l'ensemble de validation\n",
    "y_pred_class = (y_pred_prob > 0.5).astype(int)\n",
    "\n",
    "# Calculer la matrice de confusion\n",
    "cm = confusion_matrix(y_val, y_pred_class)\n",
    "\n",
    "# les True Positives (TP) et True Negatives (TN)\n",
    "TP = cm[1, 1]  \n",
    "TN = cm[0, 0] \n",
    "print(f\"True Positives: {TP}\")\n",
    "print(f\"True Negatives: {TN}\")\n",
    "\n",
    "# Affichage\n",
    "plt.figure(figsize=(8,6))\n",
    "sns.heatmap(cm, annot=True, fmt='d', cmap='YlOrRd', xticklabels=['Non Frauduleuses', 'Frauduleuses'], yticklabels=['Non Frauduleuses', 'Frauduleuses'])\n",
    "plt.title('Matrice de confusion')\n",
    "plt.xlabel('Prédictions')\n",
    "plt.ylabel('Véritables valeurs')\n",
    "plt.show()\n",
    "\n"
   ]
  },
  {
   "cell_type": "markdown",
   "id": "32206aab-99e6-47d8-a439-84fb23d0bf74",
   "metadata": {},
   "source": [
    "Les résultats montrent que le modèle a atteint une **précision de 99.98%**, avec une **perte faible** sur l'ensemble de validation, ce qui indique qu'il a bien appris à reconstruire les transactions normales et à identifier les anomalies. La **matrice de confusion** montre également un faible nombre de faux positifs et faux négatifs, ce qui est crucial pour des applications réelles comme la détection de fraude. En outre, les métriques de **précision** et de **rappel** sont très élevées, ce qui confirme que le modèle est robuste et fiable pour détecter les transactions frauduleuses.\n"
   ]
  },
  {
   "cell_type": "markdown",
   "id": "39661a23-b8dc-40d0-9229-51a8e086a889",
   "metadata": {},
   "source": [
    "## Conclusion\n",
    "\n",
    "Dans ce projet, nous avons utilisé un modèle de deep learning pour détecter les transactions frauduleuses dans un dataset de cartes de crédit. Après avoir équilibré les classes avec SMOTE et normalisé les données, nous avons entraîné le modèle avec des performances très prometteuses. \n",
    "\n",
    "### Résultats :\n",
    "\n",
    "- **Précision** : Le modèle a atteint une précision de **99.98%** sur l'ensemble de validation, ce qui montre qu'il est capable de bien prédire les transactions normales et frauduleuses.\n",
    "- **Perte** : La perte du modèle sur l'ensemble de validation est faible, ce qui indique que le modèle a convergé efficacement.\n",
    "- **Métriques supplémentaires** : Le **rappel** et le **F1-score** sont également élevés, confirmant que le modèle est bien équilibré dans la détection des fraudes tout en réduisant les faux positifs.\n"
   ]
  },
  {
   "cell_type": "code",
   "execution_count": null,
   "id": "2fd7d12f-9cc8-400b-80be-6ff15bb5fd64",
   "metadata": {},
   "outputs": [],
   "source": []
  }
 ],
 "metadata": {
  "kernelspec": {
   "display_name": "Python 3 (ipykernel)",
   "language": "python",
   "name": "python3"
  },
  "language_info": {
   "codemirror_mode": {
    "name": "ipython",
    "version": 3
   },
   "file_extension": ".py",
   "mimetype": "text/x-python",
   "name": "python",
   "nbconvert_exporter": "python",
   "pygments_lexer": "ipython3",
   "version": "3.12.4"
  }
 },
 "nbformat": 4,
 "nbformat_minor": 5
}
